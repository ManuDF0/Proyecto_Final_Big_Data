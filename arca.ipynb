{
 "cells": [
  {
   "cell_type": "code",
   "execution_count": 1,
   "metadata": {},
   "outputs": [],
   "source": [
    "import requests\n",
    "import pandas as pd\n",
    "import tqdm\n",
    "from dotenv import load_dotenv\n",
    "import os"
   ]
  },
  {
   "cell_type": "code",
   "execution_count": 2,
   "metadata": {},
   "outputs": [],
   "source": [
    "load_dotenv(dotenv_path='credentials.env')\n",
    "\n",
    "api_key = os.getenv(\"API_KEY\")\n",
    "username = os.getenv(\"USER\")"
   ]
  },
  {
   "cell_type": "code",
   "execution_count": 14,
   "metadata": {},
   "outputs": [],
   "source": [
    "#url = f'https://api-constancias-de-inscripcion.mrbot.com.ar/crear_usuario/?mail={username}'"
   ]
  },
  {
   "cell_type": "code",
   "execution_count": 15,
   "metadata": {},
   "outputs": [],
   "source": [
    "#res = requests.post(url)\n",
    "#res.json()"
   ]
  },
  {
   "cell_type": "code",
   "execution_count": 3,
   "metadata": {},
   "outputs": [],
   "source": [
    "creditos_hist = pd.read_parquet('./input/creditos_hist.parquet')"
   ]
  },
  {
   "cell_type": "code",
   "execution_count": 4,
   "metadata": {},
   "outputs": [],
   "source": [
    "url = f'https://api-constancias-de-inscripcion.mrbot.com.ar/consulta_constancia_masiva/?usuario={username}&api_key={api_key}'"
   ]
  },
  {
   "cell_type": "code",
   "execution_count": 5,
   "metadata": {},
   "outputs": [],
   "source": [
    "headers = {\n",
    "    \"accept\": \"application/json\",\n",
    "    \"Content-Type\": \"application/json\"\n",
    "}"
   ]
  },
  {
   "cell_type": "code",
   "execution_count": 6,
   "metadata": {},
   "outputs": [],
   "source": [
    "def resultados_constancias(respuesta):\n",
    "    datos = {}\n",
    "    res = respuesta.get('resultados', {})\n",
    "    \n",
    "    datos_generales = res.get('datosGenerales') if res.get('datosGenerales') else None\n",
    "    datos_regimen = res.get('datosRegimenGeneral') if res.get('datosRegimenGeneral') else None\n",
    "    error_constancia = res.get('errorConstancia') if res.get('errorConstancia') else None\n",
    "    error_regimen = res.get('errorRegimenGeneral') if res.get('errorRegimenGeneral') else None\n",
    "    \n",
    "    # Datos Generales\n",
    "    if datos_generales:\n",
    "        datos['cuit'] = datos_generales.get('idPersona')\n",
    "    elif error_constancia:\n",
    "        datos['cuit'] = error_constancia.get('idPersona')\n",
    "    else:\n",
    "        datos['cuit'] = None\n",
    "        \n",
    "    datos['mes_cierre'] = datos_generales.get('mesCierre') if datos_generales else None\n",
    "    datos['razon_social'] = datos_generales.get('razonSocial') if datos_generales else None\n",
    "    datos['contrato_social'] = datos_generales.get('fechaContratoSocial') if datos_generales else None\n",
    "    datos['tipo_persona'] = datos_generales.get('tipoPersona') if datos_generales else None\n",
    "    \n",
    "    # Domicilio Fiscal\n",
    "    domicilio_fiscal = datos_generales.get('domicilioFiscal') if datos_generales else None\n",
    "    datos['codigo_postal'] = domicilio_fiscal.get('codPostal') if domicilio_fiscal else None\n",
    "    datos['provincia'] = domicilio_fiscal.get('descripcionProvincia') if domicilio_fiscal else None\n",
    "    datos['direccion'] = domicilio_fiscal.get('direccion') if domicilio_fiscal else None\n",
    "    datos['localidad'] = domicilio_fiscal.get('localidad') if domicilio_fiscal else None\n",
    "    \n",
    "    # Datos Régimen\n",
    "    datos_actividad = datos_regimen.get('actividad', []) if datos_regimen else None\n",
    "    impuestos = datos_regimen.get('impuesto', []) if datos_regimen else None\n",
    "    regimenes = datos_regimen.get('regimen', []) if datos_regimen else None\n",
    "    \n",
    "    # Error en la constancia\n",
    "    datos['errorConstancia'] = error_constancia.get('error') if error_constancia else None\n",
    "    \n",
    "    # Error en Régimen General\n",
    "    datos['errorRegimenGeneral'] = error_regimen.get('error') if error_regimen else None\n",
    "    \n",
    "    # Actividad\n",
    "    if datos_actividad:\n",
    "        datos['actividades'] = '; '.join([\n",
    "            f\"{a.get('descripcionActividad')} ({a.get('idActividad')})\" \n",
    "            for a in datos_actividad\n",
    "        ])\n",
    "        for actividad in datos_actividad:\n",
    "            id = actividad.get('idActividad')\n",
    "            datos[f'actividad_{id}'] = True\n",
    "    \n",
    "    # Impuestos\n",
    "    if impuestos:\n",
    "        datos['impuestos'] = '; '.join([\n",
    "\t\t\tf\"{i.get('descripcionImpuesto')} ({i.get('idImpuesto')})\"\n",
    "\t\t\tfor i in impuestos\n",
    "\t\t])\n",
    "        for impuesto in impuestos:\n",
    "            id = impuesto.get('idImpuesto')\n",
    "            datos[f'impuestos_{id}'] = True\n",
    "    \n",
    "    # Regímenes\n",
    "    if regimenes:\n",
    "        datos['regimenes'] = '; '.join([\n",
    "            f\"{r.get('descripcionRegimen')} ({r.get('idRegimen')})\"\n",
    "\t\t\tfor r in regimenes\n",
    "\t\t])\n",
    "        for regimen in regimenes:\n",
    "            id = regimen.get('idRegimen')\n",
    "            datos[f'regimen_{id}'] = True\n",
    "            \n",
    "    return datos"
   ]
  },
  {
   "cell_type": "code",
   "execution_count": 16,
   "metadata": {},
   "outputs": [],
   "source": [
    "def resultados_constancias(respuesta):\n",
    "    datos = {}\n",
    "    res = respuesta.get('resultados', {})\n",
    "    \n",
    "    # Extracción de secciones principales usando get() con default\n",
    "    datos_generales = res.get('datosGenerales', {})\n",
    "    datos_regimen = res.get('datosRegimenGeneral', {})\n",
    "    error_constancia = res.get('errorConstancia', {})\n",
    "    error_regimen = res.get('errorRegimenGeneral', {})\n",
    "    \n",
    "    # 1. Manejo de CUIT (corregido error de sintaxis y lógica)\n",
    "    datos['cuit'] = (\n",
    "        datos_generales.get('idPersona') or \n",
    "        error_constancia.get('idPersona') or \n",
    "        None\n",
    "    )\n",
    "    \n",
    "    # 2. Datos generales (versión simplificada)\n",
    "    general_fields = {\n",
    "        'mes_cierre': 'mesCierre',\n",
    "        'razon_social': 'razonSocial',\n",
    "        'contrato_social': 'fechaContratoSocial',\n",
    "        'tipo_persona': 'tipoPersona'\n",
    "    }\n",
    "    for field, key in general_fields.items():\n",
    "        datos[field] = datos_generales.get(key)\n",
    "    \n",
    "    # 3. Domicilio fiscal (usando dict.get() encadenado)\n",
    "    domicilio = datos_generales.get('domicilioFiscal', {})\n",
    "    domicilio_fields = {\n",
    "        'codigo_postal': 'codPostal',\n",
    "        'provincia': 'descripcionProvincia',\n",
    "        'direccion': 'direccion',\n",
    "        'localidad': 'localidad'\n",
    "    }\n",
    "    for field, key in domicilio_fields.items():\n",
    "        datos[field] = domicilio.get(key)\n",
    "    \n",
    "    # 4. Manejo de errores (convertimos listas a string)\n",
    "    datos['error_constancia'] = '; '.join(error_constancia.get('error', [])) or None\n",
    "    datos['error_regimen'] = '; '.join(error_regimen.get('error', [])) or None\n",
    "    \n",
    "    # 5. Procesamiento de régimen (evitamos None usando get con default)\n",
    "    def procesar_seccion(seccion, nombre, desc_key, id_key):\n",
    "        items = datos_regimen.get(seccion, [])\n",
    "        if items:\n",
    "            datos[f'{nombre}_listado'] = '; '.join(\n",
    "                f\"{i.get(desc_key, '')} ({i.get(id_key, '')})\" \n",
    "                for i in items\n",
    "            )\n",
    "            for item in items:\n",
    "                if (item_id := item.get(id_key)) is not None:\n",
    "                    datos[f'{nombre}_{item_id}'] = True\n",
    "    \n",
    "    procesar_seccion('actividad', 'actividad', 'descripcionActividad', 'idActividad')\n",
    "    procesar_seccion('impuesto', 'impuesto', 'descripcionImpuesto', 'idImpuesto')\n",
    "    procesar_seccion('regimen', 'regimen', 'descripcionRegimen', 'idRegimen')\n",
    "    \n",
    "    return datos"
   ]
  },
  {
   "cell_type": "code",
   "execution_count": 10,
   "metadata": {},
   "outputs": [],
   "source": [
    "identificaciones = creditos_hist['identificacion'].unique()\n",
    "tramos = [identificaciones[i:i + 250] for i in range(0, len(identificaciones), 250)]"
   ]
  },
  {
   "cell_type": "code",
   "execution_count": null,
   "metadata": {},
   "outputs": [],
   "source": [
    "todos_los_datos = []\n",
    "session = requests.Session()\n",
    "\n",
    "for tramo in tqdm.tqdm(tramos):\n",
    "    try:\n",
    "        payload = {\n",
    "        \t\"cuits\": [str(cuit) for cuit in tramo]\n",
    "        }\n",
    "        response = session.post(url, json=payload, headers=headers)\n",
    "        response.raise_for_status()\n",
    "        todos_los_datos.extend(response.json())\n",
    "    except Exception as e:\n",
    "        print(e)"
   ]
  },
  {
   "cell_type": "code",
   "execution_count": null,
   "metadata": {},
   "outputs": [
    {
     "name": "stderr",
     "output_type": "stream",
     "text": [
      "  0%|          | 0/10 [00:00<?, ?it/s]"
     ]
    }
   ],
   "source": [
    "todos_los_datos = []\n",
    "session = requests.Session()\n",
    "for cuit in tqdm.tqdm(creditos_hist['identificacion'].unique()[:10]):\n",
    "    try:\n",
    "        url = f'https://api-constancias-de-inscripcion.mrbot.com.ar/consulta_constancia/?cuit={cuit}&usuario={username}&api_key={api_key}'\n",
    "        response = session.get(url, headers= headers)\n",
    "        response.raise_for_status()\n",
    "        todos_los_datos.append(response.json())\n",
    "    except Exception as e:\n",
    "        print(e) "
   ]
  },
  {
   "cell_type": "code",
   "execution_count": 17,
   "metadata": {},
   "outputs": [],
   "source": [
    "prueba = []\n",
    "for respuesta in todos_los_datos:\n",
    "    datos = resultados_constancias(respuesta)\n",
    "    prueba.append(datos)"
   ]
  },
  {
   "cell_type": "code",
   "execution_count": 12,
   "metadata": {},
   "outputs": [],
   "source": [
    "datos = pd.DataFrame(todos_los_datos)"
   ]
  },
  {
   "cell_type": "code",
   "execution_count": 16,
   "metadata": {},
   "outputs": [],
   "source": [
    "datos.to_parquet('./input/constancia_inscripcion.parquet', compression= 'gzip')"
   ]
  },
  {
   "cell_type": "code",
   "execution_count": 18,
   "metadata": {},
   "outputs": [],
   "source": [
    "faltan = creditos_hist.loc[~creditos_hist['identificacion'].isin(datos['identificacion'].unique())]['identificacion'].unique()"
   ]
  },
  {
   "cell_type": "code",
   "execution_count": 15,
   "metadata": {},
   "outputs": [],
   "source": [
    "session = requests.Session()\n",
    "prueba = []\n",
    "for cuit in faltan[:10]:\n",
    "    try:\n",
    "        url = f'https://api-constancias-de-inscripcion.mrbot.com.ar/consulta_constancia/?cuit={cuit}&usuario={username}&api_key={api_key}'\n",
    "        response = session.get(url, headers= headers)\n",
    "        response.raise_for_status()\n",
    "        prueba.append(response.json())\n",
    "    except Exception as e:\n",
    "        print(e) "
   ]
  },
  {
   "cell_type": "code",
   "execution_count": 2,
   "metadata": {},
   "outputs": [],
   "source": [
    "arca = pd.read_parquet('./input/constancia_inscripcion.parquet')"
   ]
  }
 ],
 "metadata": {
  "kernelspec": {
   "display_name": "Python 3",
   "language": "python",
   "name": "python3"
  },
  "language_info": {
   "codemirror_mode": {
    "name": "ipython",
    "version": 3
   },
   "file_extension": ".py",
   "mimetype": "text/x-python",
   "name": "python",
   "nbconvert_exporter": "python",
   "pygments_lexer": "ipython3",
   "version": "3.12.6"
  }
 },
 "nbformat": 4,
 "nbformat_minor": 2
}
