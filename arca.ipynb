{
 "cells": [
  {
   "cell_type": "code",
   "execution_count": 1,
   "metadata": {},
   "outputs": [],
   "source": [
    "import requests\n",
    "import pandas as pd\n",
    "import tqdm\n",
    "from dotenv import load_dotenv\n",
    "import os"
   ]
  },
  {
   "cell_type": "code",
   "execution_count": 2,
   "metadata": {},
   "outputs": [],
   "source": [
    "load_dotenv(dotenv_path='credentials.env')\n",
    "\n",
    "api_key = os.getenv(\"API_KEY\")\n",
    "username = os.getenv(\"USER\")"
   ]
  },
  {
   "cell_type": "code",
   "execution_count": 3,
   "metadata": {},
   "outputs": [],
   "source": [
    "#url = f'https://api-constancias-de-inscripcion.mrbot.com.ar/crear_usuario/?mail={username}'"
   ]
  },
  {
   "cell_type": "code",
   "execution_count": 4,
   "metadata": {},
   "outputs": [],
   "source": [
    "#res = requests.post(url)\n",
    "#res.json()"
   ]
  },
  {
   "cell_type": "code",
   "execution_count": 3,
   "metadata": {},
   "outputs": [],
   "source": [
    "creditos_hist = pd.read_parquet('./input/creditos_hist.parquet')"
   ]
  },
  {
   "cell_type": "code",
   "execution_count": 4,
   "metadata": {},
   "outputs": [],
   "source": [
    "url = f'https://api-constancias-de-inscripcion.mrbot.com.ar/consulta_constancia_masiva/?usuario={username}&api_key={api_key}'"
   ]
  },
  {
   "cell_type": "code",
   "execution_count": 5,
   "metadata": {},
   "outputs": [],
   "source": [
    "headers = {\n",
    "    \"accept\": \"application/json\",\n",
    "    \"Content-Type\": \"application/json\"\n",
    "}"
   ]
  },
  {
   "cell_type": "code",
   "execution_count": 6,
   "metadata": {},
   "outputs": [],
   "source": [
    "def resultados_constancias(response_json):\n",
    "    datos = []\n",
    "    for res in response_json['resultado']:\n",
    "        datos_generales = res.get('datosGenerales') if res.get('datosGenerales') else None\n",
    "        domicilio_fiscal = datos_generales.get('domicilioFiscal') if datos_generales else None\n",
    "        codigo_postal = domicilio_fiscal.get('codPostal') if domicilio_fiscal else None\n",
    "        provincia = domicilio_fiscal.get('descripcionProvincia') if domicilio_fiscal else None\n",
    "        direccion = domicilio_fiscal.get('direccion') if domicilio_fiscal else None\n",
    "        localidad = domicilio_fiscal.get('localidad') if domicilio_fiscal else None\n",
    "        cuit = datos_generales.get('idPersona') if datos_generales else None\n",
    "        mes_cierre = datos_generales.get('mesCierre') if datos_generales else None\n",
    "        razon_social = datos_generales.get('razonSocial') if datos_generales else None\n",
    "        datos_regimen = res.get('datosRegimenGeneral') if res.get('datosRegimenGeneral') else None\n",
    "        datos_actividad = datos_regimen.get('actividad', []) if datos_regimen else None\n",
    "        impuestos = datos_regimen.get('impuesto', []) if datos_regimen else None\n",
    "        regimenes = datos_regimen.get('regimen', []) if datos_regimen else None\n",
    "        \n",
    "        fila = {\n",
    "\t\t\t'codPostal': codigo_postal,\n",
    "\t\t\t'identificacion': cuit,\n",
    "\t\t\t'provincia': provincia,\n",
    "\t\t\t'direccion': direccion,\n",
    "\t\t\t'localidad': localidad,\n",
    "\t\t\t'mesCierre': mes_cierre,\n",
    "\t\t\t'razonSocial': razon_social,\n",
    "\t\t}\n",
    "        if impuestos:\n",
    "            for impuesto in impuestos:\n",
    "                imp_descripcion = impuesto.get('descripcionImpuesto')\n",
    "                if imp_descripcion:\n",
    "                    fila[imp_descripcion] = True\n",
    "        \n",
    "        if regimenes:\n",
    "            for regimen in regimenes:\n",
    "                reg_descripcion = regimen.get('descripcionRegimen')\n",
    "                tipo_regimen = regimen.get('tipoRegimen')\n",
    "                if reg_descripcion:\n",
    "                    fila[reg_descripcion] = tipo_regimen if tipo_regimen else True\n",
    "        \n",
    "        if datos_actividad:\n",
    "            for act in datos_actividad:\n",
    "                actividad = act.get('descripcionActividad') if act.get('descripcionActividad') else None\n",
    "                id_act = act.get('idActividad') if act.get('idActividad') else None\n",
    "                fila_actividad = fila.copy() \n",
    "                fila_actividad['actividad'] = actividad\n",
    "                fila_actividad['idActividad'] = id_act\n",
    "                datos.append(fila_actividad)\n",
    "    return datos"
   ]
  },
  {
   "cell_type": "code",
   "execution_count": 11,
   "metadata": {},
   "outputs": [],
   "source": [
    "identificaciones = creditos_hist['identificacion'].unique()\n",
    "tramos = [identificaciones[i:i + 250] for i in range(0, len(identificaciones), 250)]"
   ]
  },
  {
   "cell_type": "code",
   "execution_count": null,
   "metadata": {},
   "outputs": [],
   "source": [
    "todos_los_datos = []\n",
    "session = requests.Session()\n",
    "\n",
    "for tramo in tqdm.tqdm(tramos):\n",
    "    try:\n",
    "        payload = {\n",
    "        \t\"cuits\": [str(cuit) for cuit in tramo]\n",
    "        }\n",
    "        response = session.post(url, json=payload, headers=headers)\n",
    "        response.raise_for_status()\n",
    "        datos = resultados_constancias(response.json())\n",
    "        todos_los_datos.extend(datos)\n",
    "    except Exception as e:\n",
    "        print(e)"
   ]
  },
  {
   "cell_type": "code",
   "execution_count": 13,
   "metadata": {},
   "outputs": [],
   "source": [
    "datos = pd.DataFrame(todos_los_datos)"
   ]
  },
  {
   "cell_type": "code",
   "execution_count": 17,
   "metadata": {},
   "outputs": [],
   "source": [
    "datos.to_parquet('./input/constancia_inscripcion.parquet', compression= 'gzip')"
   ]
  },
  {
   "cell_type": "code",
   "execution_count": 18,
   "metadata": {},
   "outputs": [],
   "source": [
    "faltan = creditos_hist.loc[~creditos_hist['identificacion'].isin(datos['identificacion'].unique())]['identificacion'].unique()"
   ]
  },
  {
   "cell_type": "code",
   "execution_count": 15,
   "metadata": {},
   "outputs": [],
   "source": [
    "session = requests.Session()\n",
    "prueba = []\n",
    "for cuit in faltan[:10]:\n",
    "    try:\n",
    "        url = f'https://api-constancias-de-inscripcion.mrbot.com.ar/consulta_constancia/?cuit={cuit}&usuario={username}&api_key={api_key}'\n",
    "        response = session.get(url, headers= headers)\n",
    "        response.raise_for_status()\n",
    "        prueba.append(response.json())\n",
    "    except Exception as e:\n",
    "        print(e) "
   ]
  },
  {
   "cell_type": "code",
   "execution_count": null,
   "metadata": {},
   "outputs": [],
   "source": []
  }
 ],
 "metadata": {
  "kernelspec": {
   "display_name": "Python 3",
   "language": "python",
   "name": "python3"
  },
  "language_info": {
   "codemirror_mode": {
    "name": "ipython",
    "version": 3
   },
   "file_extension": ".py",
   "mimetype": "text/x-python",
   "name": "python",
   "nbconvert_exporter": "python",
   "pygments_lexer": "ipython3",
   "version": "3.12.6"
  }
 },
 "nbformat": 4,
 "nbformat_minor": 2
}
