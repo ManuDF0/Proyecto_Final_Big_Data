{
 "cells": [
  {
   "cell_type": "code",
   "execution_count": 1,
   "metadata": {},
   "outputs": [],
   "source": [
    "import requests\n",
    "import pandas as pd\n",
    "import tqdm\n",
    "from dotenv import load_dotenv\n",
    "import os\n",
    "import csv"
   ]
  },
  {
   "cell_type": "code",
   "execution_count": 2,
   "metadata": {},
   "outputs": [],
   "source": [
    "load_dotenv(dotenv_path='credentials.env')\n",
    "\n",
    "api_key = os.getenv(\"API_KEY\")\n",
    "username = os.getenv(\"USER\")"
   ]
  },
  {
   "cell_type": "code",
   "execution_count": 14,
   "metadata": {},
   "outputs": [],
   "source": [
    "#url = f'https://api-constancias-de-inscripcion.mrbot.com.ar/crear_usuario/?mail={username}'"
   ]
  },
  {
   "cell_type": "code",
   "execution_count": 15,
   "metadata": {},
   "outputs": [],
   "source": [
    "#res = requests.post(url)\n",
    "#res.json()"
   ]
  },
  {
   "cell_type": "code",
   "execution_count": 3,
   "metadata": {},
   "outputs": [],
   "source": [
    "creditos_hist = pd.read_parquet('./input/creditos_hist.parquet')"
   ]
  },
  {
   "cell_type": "code",
   "execution_count": 4,
   "metadata": {},
   "outputs": [],
   "source": [
    "url = f'https://api-constancias-de-inscripcion.mrbot.com.ar/consulta_constancia_masiva/?usuario={username}&api_key={api_key}'"
   ]
  },
  {
   "cell_type": "code",
   "execution_count": 5,
   "metadata": {},
   "outputs": [],
   "source": [
    "headers = {\n",
    "    \"accept\": \"application/json\",\n",
    "    \"Content-Type\": \"application/json\"\n",
    "}"
   ]
  },
  {
   "cell_type": "code",
   "execution_count": 6,
   "metadata": {},
   "outputs": [],
   "source": [
    "def resultados_constancias(res):\n",
    "    datos = {}\n",
    "    \n",
    "    datos_generales = res.get('datosGenerales') if res.get('datosGenerales') else None\n",
    "    datos_regimen = res.get('datosRegimenGeneral') if res.get('datosRegimenGeneral') else None\n",
    "    error_constancia = res.get('errorConstancia') if res.get('errorConstancia') else None\n",
    "    error_regimen = res.get('errorRegimenGeneral') if res.get('errorRegimenGeneral') else None\n",
    "    \n",
    "    # Datos Generales\n",
    "    if datos_generales:\n",
    "        datos['cuit'] = datos_generales.get('idPersona')\n",
    "    elif error_constancia:\n",
    "        datos['cuit'] = error_constancia.get('idPersona')\n",
    "    else:\n",
    "        datos['cuit'] = None\n",
    "        \n",
    "    datos['mes_cierre'] = datos_generales.get('mesCierre') if datos_generales else None\n",
    "    datos['razon_social'] = datos_generales.get('razonSocial') if datos_generales else None\n",
    "    datos['contrato_social'] = datos_generales.get('fechaContratoSocial') if datos_generales else None\n",
    "    datos['tipo_persona'] = datos_generales.get('tipoPersona') if datos_generales else None\n",
    "    \n",
    "    # Domicilio Fiscal\n",
    "    domicilio_fiscal = datos_generales.get('domicilioFiscal') if datos_generales else None\n",
    "    datos['codigo_postal'] = domicilio_fiscal.get('codPostal') if domicilio_fiscal else None\n",
    "    datos['provincia'] = domicilio_fiscal.get('descripcionProvincia') if domicilio_fiscal else None\n",
    "    datos['direccion'] = domicilio_fiscal.get('direccion') if domicilio_fiscal else None\n",
    "    datos['localidad'] = domicilio_fiscal.get('localidad') if domicilio_fiscal else None\n",
    "    \n",
    "    # Datos Régimen\n",
    "    datos_actividad = datos_regimen.get('actividad', []) if datos_regimen else None\n",
    "    impuestos = datos_regimen.get('impuesto', []) if datos_regimen else None\n",
    "    regimenes = datos_regimen.get('regimen', []) if datos_regimen else None\n",
    "    \n",
    "    # Error en la constancia\n",
    "    datos['errorConstancia'] = error_constancia.get('error') if error_constancia else None\n",
    "    \n",
    "    # Error en Régimen General\n",
    "    datos['errorRegimenGeneral'] = error_regimen.get('error') if error_regimen else None\n",
    "    \n",
    "    # Actividad\n",
    "    if datos_actividad:\n",
    "        datos['actividades'] = '; '.join([\n",
    "            f\"{a.get('descripcionActividad')} ({a.get('idActividad')})\" \n",
    "            for a in datos_actividad\n",
    "        ])\n",
    "        for actividad in datos_actividad:\n",
    "            id = actividad.get('idActividad')\n",
    "            datos[f'actividad_{id}'] = True\n",
    "    \n",
    "    # Impuestos\n",
    "    if impuestos:\n",
    "        datos['impuestos'] = '; '.join([\n",
    "\t\t\tf\"{i.get('descripcionImpuesto')} ({i.get('idImpuesto')})\"\n",
    "\t\t\tfor i in impuestos\n",
    "\t\t])\n",
    "        for impuesto in impuestos:\n",
    "            id = impuesto.get('idImpuesto')\n",
    "            datos[f'impuestos_{id}'] = True\n",
    "    \n",
    "    # Regímenes\n",
    "    if regimenes:\n",
    "        datos['regimenes'] = '; '.join([\n",
    "            f\"{r.get('descripcionRegimen')} ({r.get('idRegimen')})\"\n",
    "\t\t\tfor r in regimenes\n",
    "\t\t])\n",
    "        for regimen in regimenes:\n",
    "            id = regimen.get('idRegimen')\n",
    "            datos[f'regimen_{id}'] = True\n",
    "            \n",
    "    return datos"
   ]
  },
  {
   "cell_type": "code",
   "execution_count": 7,
   "metadata": {},
   "outputs": [],
   "source": [
    "identificaciones = creditos_hist['identificacion'].unique()\n",
    "tramos = [identificaciones[i:i + 250] for i in range(0, len(identificaciones), 250)]"
   ]
  },
  {
   "cell_type": "code",
   "execution_count": null,
   "metadata": {},
   "outputs": [],
   "source": [
    "# 189/1343\n",
    "\n",
    "todos_los_datos = []\n",
    "session = requests.Session()\n",
    "\n",
    "for tramo in tqdm.tqdm(tramos):\n",
    "    try:\n",
    "        payload = {\n",
    "        \t\"cuits\": [str(cuit) for cuit in tramo]\n",
    "        }\n",
    "        response = session.post(url, json=payload, headers=headers)\n",
    "        response.raise_for_status()\n",
    "        todos_los_datos.extend(response.json()['resultado'])\n",
    "    except Exception as e:\n",
    "        print(e)"
   ]
  },
  {
   "cell_type": "code",
   "execution_count": 9,
   "metadata": {},
   "outputs": [],
   "source": [
    "with open('output/constancias.csv', 'w', encoding='utf-8', newline='') as f:\n",
    "    if todos_los_datos:\n",
    "        fieldnames = todos_los_datos[0].keys()  \n",
    "        writer = csv.DictWriter(f, fieldnames=fieldnames)\n",
    "        \n",
    "        writer.writeheader()  \n",
    "        writer.writerows(todos_los_datos)  "
   ]
  },
  {
   "cell_type": "code",
   "execution_count": 10,
   "metadata": {},
   "outputs": [],
   "source": [
    "datos = []\n",
    "for respuesta in todos_los_datos:\n",
    "    datos_procesados = resultados_constancias(respuesta)\n",
    "    datos.extend([datos_procesados])\n",
    "\n",
    "datos = pd.DataFrame(datos)"
   ]
  },
  {
   "cell_type": "code",
   "execution_count": 11,
   "metadata": {},
   "outputs": [],
   "source": [
    "errores = datos[(datos['errorConstancia'].notnull()) | (datos['errorRegimenGeneral'].notnull())]\n",
    "tipos_errores = []\n",
    "for error in errores['errorConstancia']:\n",
    "    if error:\n",
    "    \ttipos_errores.extend(error)\n",
    "            \n",
    "for error in errores['errorRegimenGeneral']:\n",
    "    if error:\n",
    "        for err in error:\n",
    "            tipos_errores.extend(error)\n",
    "            \n",
    "tipos_errores = list(set(tipos_errores))\n",
    "\n",
    "with open('./output/errores_constancias.txt', 'w') as f:\n",
    "    for error in tipos_errores:\n",
    "        f.write(f'{error}\\n')"
   ]
  },
  {
   "cell_type": "code",
   "execution_count": 16,
   "metadata": {},
   "outputs": [],
   "source": [
    "datos.to_parquet('./input/constancia_inscripcion.parquet', compression= 'gzip')"
   ]
  },
  {
   "cell_type": "code",
   "execution_count": null,
   "metadata": {},
   "outputs": [],
   "source": []
  }
 ],
 "metadata": {
  "kernelspec": {
   "display_name": "Python 3",
   "language": "python",
   "name": "python3"
  },
  "language_info": {
   "codemirror_mode": {
    "name": "ipython",
    "version": 3
   },
   "file_extension": ".py",
   "mimetype": "text/x-python",
   "name": "python",
   "nbconvert_exporter": "python",
   "pygments_lexer": "ipython3",
   "version": "3.12.6"
  }
 },
 "nbformat": 4,
 "nbformat_minor": 2
}
