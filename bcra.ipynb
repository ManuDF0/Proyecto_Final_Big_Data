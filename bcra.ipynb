{
 "cells": [
  {
   "cell_type": "code",
   "execution_count": 1,
   "metadata": {},
   "outputs": [],
   "source": [
    "import requests\n",
    "import pandas as pd\n",
    "import tqdm\n",
    "from collections import defaultdict\n",
    "import urllib3\n",
    "import os\n",
    "import csv\n",
    "import random\n",
    "from concurrent.futures import ThreadPoolExecutor, as_completed"
   ]
  },
  {
   "cell_type": "markdown",
   "metadata": {},
   "source": [
    "# Registro Nacional de Sociedades"
   ]
  },
  {
   "cell_type": "code",
   "execution_count": 12,
   "metadata": {},
   "outputs": [],
   "source": [
    "def unificar_rns(csv_files, existing = None):\n",
    "    current = pd.concat([pd.read_csv(f'./input/{file}') for file in csv_files]).drop_duplicates()\n",
    "    if existing is None:\n",
    "        return current\n",
    "    else:\n",
    "        new = current.loc[~current['cuit'].isin(existing['cuit'].unique())]\n",
    "        all_data = pd.concat([existing, new], ignore_index= True).drop_duplicates()\n",
    "        return all_data"
   ]
  },
  {
   "cell_type": "code",
   "execution_count": 13,
   "metadata": {},
   "outputs": [],
   "source": [
    "#files = os.listdir('./input/')\n",
    "#csv_files = [file for file in files if file.endswith('.csv')]"
   ]
  },
  {
   "cell_type": "code",
   "execution_count": 14,
   "metadata": {},
   "outputs": [],
   "source": [
    "#existing = pd.read_parquet('./input/registro_nacional_sociedades.parquet')"
   ]
  },
  {
   "cell_type": "code",
   "execution_count": null,
   "metadata": {},
   "outputs": [],
   "source": [
    "#all_data = unificar_rns(csv_files, existing)"
   ]
  },
  {
   "cell_type": "code",
   "execution_count": 19,
   "metadata": {},
   "outputs": [],
   "source": [
    "#nuevos = list(set(all_data['cuit']) - set(existing['cuit']))"
   ]
  },
  {
   "cell_type": "code",
   "execution_count": 17,
   "metadata": {},
   "outputs": [],
   "source": [
    "#all_data.to_parquet('./input/registro_nacional_sociedades.parquet', compression = 'gzip')"
   ]
  },
  {
   "cell_type": "code",
   "execution_count": 18,
   "metadata": {},
   "outputs": [],
   "source": [
    "#nuevos.to_parquet('./input/cuits_nuevos.parquet', compression= 'gzip')"
   ]
  },
  {
   "cell_type": "markdown",
   "metadata": {},
   "source": [
    "# Deudas Históricas"
   ]
  },
  {
   "cell_type": "code",
   "execution_count": 3,
   "metadata": {},
   "outputs": [],
   "source": [
    "all_data = pd.read_parquet('./input/registro_nacional_sociedades.parquet')\n",
    "cuits = all_data['cuit'].unique()"
   ]
  },
  {
   "cell_type": "code",
   "execution_count": 20,
   "metadata": {},
   "outputs": [],
   "source": [
    "base_url = \"https://api.bcra.gob.ar/centraldedeudores/v1.0/Deudas/Historicas/\"\n",
    "urllib3.disable_warnings(urllib3.exceptions.InsecureRequestWarning)"
   ]
  },
  {
   "cell_type": "code",
   "execution_count": 21,
   "metadata": {},
   "outputs": [
    {
     "name": "stderr",
     "output_type": "stream",
     "text": [
      "100%|██████████| 16760/16760 [01:11<00:00, 232.78it/s]\n"
     ]
    }
   ],
   "source": [
    "todas_las_filas = []\n",
    "\n",
    "session = requests.Session()\n",
    "\n",
    "def fetch_data(id):\n",
    "\ttry:\n",
    "\t\turl = f\"{base_url}{id}\"\n",
    "\t\tres = session.get(url, verify=False)\n",
    "\t\tres.raise_for_status()\n",
    "\t\tdata = res.json()\n",
    "\t\t\n",
    "\t\tresults = data['results']\n",
    "\t\tidentificacion_val = results.get('identificacion')\n",
    "\t\tdenominacion = results.get('denominacion')\n",
    "\t\tperiodos = results.get('periodos', [])\n",
    "\t\t\n",
    "\t\tfilas = []\n",
    "\t\tfor periodo in periodos:\n",
    "\t\t\tperiodo_val = periodo.get('periodo')\n",
    "\t\t\tentidades = periodo.get('entidades', [])\n",
    "\t\t\tfor entidad in entidades:\n",
    "\t\t\t\tfila = {'identificacion': identificacion_val,\n",
    "\t\t\t\t\t\t'denominacion': denominacion,\n",
    "\t\t\t\t\t\t'periodo': periodo_val,\n",
    "\t\t\t\t\t\t'entidad': entidad.get('entidad'),\n",
    "\t\t\t\t\t\t'situacion': entidad.get('situacion'),\n",
    "\t\t\t\t\t\t'monto': entidad.get('monto'),\n",
    "\t\t\t\t\t\t'enRevision': entidad.get('enRevision'),\n",
    "\t\t\t\t\t\t'procesoJud': entidad.get('procesoJud')}\n",
    "\t\t\t\tfilas.append(fila)\n",
    "\t\treturn filas, None\n",
    "\texcept requests.exceptions.RequestException as e:\n",
    "\t\treturn None, e\n",
    "\n",
    "with ThreadPoolExecutor() as executor:\n",
    "\tfutures = {executor.submit(fetch_data, id): id for id in cuits}\n",
    "\tfor future in tqdm.tqdm(as_completed(futures), total=len(futures)):\n",
    "\t\tfilas, error = future.result()\n",
    "\t\tif filas:\n",
    "\t\t\ttodas_las_filas.extend(filas)"
   ]
  },
  {
   "cell_type": "code",
   "execution_count": 22,
   "metadata": {},
   "outputs": [],
   "source": [
    "columnas = ['identificacion', 'denominacion', 'periodo', 'entidad', 'situacion', 'monto', 'enRevision', 'procesoJud']\n",
    "creditos_hist = pd.DataFrame(todas_las_filas, columns= columnas)"
   ]
  },
  {
   "cell_type": "code",
   "execution_count": 26,
   "metadata": {},
   "outputs": [],
   "source": [
    "creditos_hist.to_parquet('./input/creditos_hist.parquet', compression= 'gzip')"
   ]
  },
  {
   "cell_type": "markdown",
   "metadata": {},
   "source": [
    "# Deudas No Históricas"
   ]
  },
  {
   "cell_type": "code",
   "execution_count": 2,
   "metadata": {},
   "outputs": [],
   "source": [
    "base_url = \"https://api.bcra.gob.ar/centraldedeudores/v1.0/Deudas/\"\n",
    "urllib3.disable_warnings(urllib3.exceptions.InsecureRequestWarning)"
   ]
  },
  {
   "cell_type": "code",
   "execution_count": 4,
   "metadata": {},
   "outputs": [],
   "source": [
    "all_data = pd.read_parquet('./input/registro_nacional_sociedades.parquet')"
   ]
  },
  {
   "cell_type": "code",
   "execution_count": 5,
   "metadata": {},
   "outputs": [],
   "source": [
    "cuits = all_data['cuit'].unique()"
   ]
  },
  {
   "cell_type": "code",
   "execution_count": 6,
   "metadata": {},
   "outputs": [
    {
     "name": "stderr",
     "output_type": "stream",
     "text": [
      "100%|██████████| 1197287/1197287 [1:10:48<00:00, 281.82it/s]\n"
     ]
    }
   ],
   "source": [
    "session = requests.Session()\n",
    "\n",
    "def fetch_data(id):\n",
    "\ttry:\n",
    "\t\turl = f\"{base_url}{id}\"\n",
    "\t\tres = session.get(url, verify=False)\n",
    "\t\tres.raise_for_status()\n",
    "\t\tdata = res.json()\n",
    "\t\t\n",
    "\t\tresults = data['results']\n",
    "\t\tidentificacion_val = results.get('identificacion')\n",
    "\t\tdenominacion = results.get('denominacion')\n",
    "\t\tperiodos = results.get('periodos', [])\n",
    "\t\t\n",
    "\t\tfilas = []\n",
    "\t\tfor periodo in periodos:\n",
    "\t\t\tperiodo_val = periodo.get('periodo')\n",
    "\t\t\tentidades = periodo.get('entidades', [])\n",
    "\t\t\tfor entidad in entidades:\n",
    "\t\t\t\tfila = {'identificacion': identificacion_val,\n",
    "\t\t\t\t\t\t'denominacion': denominacion,\n",
    "\t\t\t\t\t\t'periodo': periodo_val,\n",
    "\t\t\t\t\t\t'entidad': entidad.get('entidad'),\n",
    "\t\t\t\t\t\t'situacion': entidad.get('situacion'),\n",
    "\t\t\t\t\t\t'monto': entidad.get('monto'),\n",
    "\t\t\t\t\t\t'enRevision': entidad.get('enRevision'),\n",
    "\t\t\t\t\t\t'procesoJud': entidad.get('procesoJud'),\n",
    "\t\t\t\t\t\t'fechaSit1': entidad.get('fechaSit1'),\n",
    "\t\t\t\t\t\t'diasAtrasoPago': entidad.get('diasAtrasoPago'),\n",
    "\t\t\t\t\t\t'refinanciaciones': entidad.get('refinanciaciones'),\n",
    "\t\t\t\t\t\t'recategorizacionOblig': entidad.get('recategorizacionOblig'),\n",
    "\t\t\t\t\t\t'situacionJuridica': entidad.get('situacionJuridica'),\n",
    "\t\t\t\t\t\t'irrecDisposicionTecnica': entidad.get('irrecDisposicionTecnica')}\n",
    "\t\t\t\tfilas.append(fila)\n",
    "\t\treturn filas, None\n",
    "\texcept requests.exceptions.RequestException as e:\n",
    "\t\treturn None, (id, str(e))\n",
    "\n",
    "todas_las_filas = []\n",
    "\n",
    "with ThreadPoolExecutor() as executor:\n",
    "\tfutures = {executor.submit(fetch_data, id): id for id in cuits}\n",
    "\tfor future in tqdm.tqdm(as_completed(futures), total=len(futures)):\n",
    "\t\tfilas, error = future.result()\n",
    "\t\tif filas:\n",
    "\t\t\ttodas_las_filas.extend(filas)"
   ]
  },
  {
   "cell_type": "code",
   "execution_count": 7,
   "metadata": {},
   "outputs": [],
   "source": [
    "columnas = ['identificacion', 'denominacion', 'periodo', 'entidad', 'situacion', 'monto', 'enRevision', 'procesoJud', 'fechaSit1', 'diasAtrasoPago', 'refinanciaciones', 'recategorizacionOblig', 'situacionJuridica', 'irrecDisposicionTecnica']\n",
    "creditos = pd.DataFrame(todas_las_filas, columns= columnas)"
   ]
  },
  {
   "cell_type": "code",
   "execution_count": 9,
   "metadata": {},
   "outputs": [],
   "source": [
    "creditos_hist = pd.read_parquet('./input/creditos_hist.parquet')\n",
    "creditos_hist_2 = creditos[creditos_hist.columns]\n",
    "creditos_hist = pd.concat([creditos_hist_2, creditos_hist], ignore_index= True).drop_duplicates()"
   ]
  },
  {
   "cell_type": "code",
   "execution_count": 10,
   "metadata": {},
   "outputs": [],
   "source": [
    "creditos_hist.to_parquet('./input/creditos_hist.parquet', compression='gzip')"
   ]
  },
  {
   "cell_type": "code",
   "execution_count": 11,
   "metadata": {},
   "outputs": [],
   "source": [
    "creditos_2 = pd.read_parquet('./input/creditos.parquet')\n",
    "creditos = pd.concat([creditos_2, creditos], ignore_index= True).drop_duplicates()"
   ]
  },
  {
   "cell_type": "code",
   "execution_count": 12,
   "metadata": {},
   "outputs": [],
   "source": [
    "creditos.to_parquet('./input/creditos.parquet', compression= 'gzip')"
   ]
  },
  {
   "cell_type": "markdown",
   "metadata": {},
   "source": [
    "# Principales Variables Monetarias"
   ]
  },
  {
   "cell_type": "code",
   "execution_count": 2,
   "metadata": {},
   "outputs": [],
   "source": [
    "url = 'https://api.bcra.gob.ar/estadisticas/v3.0/monetarias'\n",
    "urllib3.disable_warnings(urllib3.exceptions.InsecureRequestWarning)\n",
    "res = requests.get(url, verify= False)"
   ]
  },
  {
   "cell_type": "code",
   "execution_count": 3,
   "metadata": {},
   "outputs": [],
   "source": [
    "variables = pd.DataFrame(res.json()['results'])"
   ]
  },
  {
   "cell_type": "code",
   "execution_count": 4,
   "metadata": {},
   "outputs": [],
   "source": [
    "ids = [1]\n",
    "ids.extend([i for i in range(4, 46, 1)])"
   ]
  },
  {
   "cell_type": "code",
   "execution_count": 5,
   "metadata": {},
   "outputs": [],
   "source": [
    "session = requests.Session()\n",
    "principales_variables = []\n",
    "\n",
    "for id in ids:\n",
    "    try:\n",
    "        url = f'https://api.bcra.gob.ar/estadisticas/v3.0/monetarias/{id}?desde=2022-11-01&hasta=2024-12-30&limit=3000'\n",
    "        res = session.get(url, verify= False)\n",
    "        res.raise_for_status()\n",
    "        df = pd.DataFrame(res.json()['results'])\n",
    "        principales_variables.append(df)\n",
    "    except Exception as e:\n",
    "        continue\n",
    "    \n",
    "principales_variables = pd.concat(principales_variables, axis=0, ignore_index=True)"
   ]
  },
  {
   "cell_type": "code",
   "execution_count": 6,
   "metadata": {},
   "outputs": [],
   "source": [
    "variables = variables[['idVariable', 'descripcion']]\n",
    "principales_variables = principales_variables.merge(\n",
    "    variables,  \n",
    "    on='idVariable',   \n",
    "    how='left'           \n",
    ")"
   ]
  },
  {
   "cell_type": "code",
   "execution_count": 7,
   "metadata": {},
   "outputs": [],
   "source": [
    "principales_variables = principales_variables.pivot(\n",
    "    index='fecha',    \n",
    "    columns='descripcion',  \n",
    "    values='valor'    \n",
    ")"
   ]
  },
  {
   "cell_type": "code",
   "execution_count": 8,
   "metadata": {},
   "outputs": [],
   "source": [
    "principales_variables.to_parquet('./input/principales_variables.parquet', compression= 'gzip')"
   ]
  },
  {
   "cell_type": "code",
   "execution_count": null,
   "metadata": {},
   "outputs": [],
   "source": []
  }
 ],
 "metadata": {
  "kernelspec": {
   "display_name": "Python 3",
   "language": "python",
   "name": "python3"
  },
  "language_info": {
   "codemirror_mode": {
    "name": "ipython",
    "version": 3
   },
   "file_extension": ".py",
   "mimetype": "text/x-python",
   "name": "python",
   "nbconvert_exporter": "python",
   "pygments_lexer": "ipython3",
   "version": "3.12.6"
  }
 },
 "nbformat": 4,
 "nbformat_minor": 2
}
