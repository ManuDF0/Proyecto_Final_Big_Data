{
 "cells": [
  {
   "cell_type": "code",
   "execution_count": 1,
   "metadata": {},
   "outputs": [],
   "source": [
    "import requests\n",
    "import pandas as pd\n",
    "import tqdm\n",
    "from collections import defaultdict\n",
    "import urllib3\n",
    "import os\n",
    "import csv\n",
    "import random\n",
    "from concurrent.futures import ThreadPoolExecutor, as_completed"
   ]
  },
  {
   "cell_type": "code",
   "execution_count": 2,
   "metadata": {},
   "outputs": [],
   "source": [
    "#files = os.listdir('./input/')\n",
    "#csv_files = [file for file in files if file.endswith('.csv')][:-1]\n",
    "#all_data = pd.concat([pd.read_csv(f'./input/{file}') for file in csv_files])"
   ]
  },
  {
   "cell_type": "code",
   "execution_count": 3,
   "metadata": {},
   "outputs": [],
   "source": [
    "#for file in csv_files:\n",
    "#    df = pd.read_csv(f'./input/{file}')\n",
    "#    output_file = f'./input/{file}.parquet'\n",
    "#    df.to_parquet(output_file, compression='snappy')  \n",
    "#    print(f'Archivo {file} guardado como {output_file}')"
   ]
  },
  {
   "cell_type": "code",
   "execution_count": 4,
   "metadata": {},
   "outputs": [],
   "source": [
    "#all_data = all_data.drop_duplicates()"
   ]
  },
  {
   "cell_type": "code",
   "execution_count": 5,
   "metadata": {},
   "outputs": [],
   "source": [
    "#all_data.to_parquet('./input/registro_nacional_sociedades_2do.parquet', compression = 'snappy')"
   ]
  },
  {
   "cell_type": "code",
   "execution_count": 2,
   "metadata": {},
   "outputs": [],
   "source": [
    "all_data = pd.read_parquet('./input/registro_nacional_sociedades.parquet')"
   ]
  },
  {
   "cell_type": "code",
   "execution_count": 22,
   "metadata": {},
   "outputs": [],
   "source": [
    "cuits = all_data['cuit'].unique()"
   ]
  },
  {
   "cell_type": "code",
   "execution_count": 5,
   "metadata": {},
   "outputs": [],
   "source": [
    "base_url = \"https://api.bcra.gob.ar/centraldedeudores/v1.0/Deudas/Historicas/\"\n",
    "urllib3.disable_warnings(urllib3.exceptions.InsecureRequestWarning)"
   ]
  },
  {
   "cell_type": "code",
   "execution_count": 23,
   "metadata": {},
   "outputs": [
    {
     "name": "stderr",
     "output_type": "stream",
     "text": [
      "100%|██████████| 104899/104899 [07:17<00:00, 239.74it/s]\n"
     ]
    }
   ],
   "source": [
    "todas_las_filas = []\n",
    "errores = defaultdict(str)\n",
    "\n",
    "session = requests.Session()\n",
    "\n",
    "def fetch_data(id):\n",
    "\ttry:\n",
    "\t\turl = f\"{base_url}{id}\"\n",
    "\t\tres = session.get(url, verify=False)\n",
    "\t\tres.raise_for_status()\n",
    "\t\tdata = res.json()\n",
    "\t\t\n",
    "\t\tresults = data['results']\n",
    "\t\tidentificacion_val = results.get('identificacion')\n",
    "\t\tdenominacion = results.get('denominacion')\n",
    "\t\tperiodos = results.get('periodos', [])\n",
    "\t\t\n",
    "\t\tfilas = []\n",
    "\t\tfor periodo in periodos:\n",
    "\t\t\tperiodo_val = periodo.get('periodo')\n",
    "\t\t\tentidades = periodo.get('entidades', [])\n",
    "\t\t\tfor entidad in entidades:\n",
    "\t\t\t\tfila = {'identificacion': identificacion_val,\n",
    "\t\t\t\t\t\t'denominacion': denominacion,\n",
    "\t\t\t\t\t\t'periodo': periodo_val,\n",
    "\t\t\t\t\t\t'entidad': entidad.get('entidad'),\n",
    "\t\t\t\t\t\t'situacion': entidad.get('situacion'),\n",
    "\t\t\t\t\t\t'monto': entidad.get('monto'),\n",
    "\t\t\t\t\t\t'enRevision': entidad.get('enRevision'),\n",
    "\t\t\t\t\t\t'procesoJud': entidad.get('procesoJud')}\n",
    "\t\t\t\tfilas.append(fila)\n",
    "\t\treturn filas, None\n",
    "\texcept requests.exceptions.RequestException as e:\n",
    "\t\treturn None, e\n",
    "\n",
    "with ThreadPoolExecutor() as executor:\n",
    "\tfutures = {executor.submit(fetch_data, id): id for id in cuits}\n",
    "\tfor future in tqdm.tqdm(as_completed(futures), total=len(futures)):\n",
    "\t\tfilas, error = future.result()\n",
    "\t\tif filas:\n",
    "\t\t\ttodas_las_filas.extend(filas)\n",
    "\t\tif error:\n",
    "\t\t\terrores[futures[future]] = str(error)"
   ]
  },
  {
   "cell_type": "code",
   "execution_count": 24,
   "metadata": {},
   "outputs": [],
   "source": [
    "columnas = ['identificacion', 'denominacion', 'periodo', 'entidad', 'situacion', 'monto', 'enRevision', 'procesoJud']\n",
    "creditos_hist = pd.DataFrame(todas_las_filas, columns= columnas)"
   ]
  },
  {
   "cell_type": "code",
   "execution_count": 19,
   "metadata": {},
   "outputs": [],
   "source": [
    "creditos_hist.to_parquet('./input/creditos_hist.parquet', compression= 'gzip')"
   ]
  },
  {
   "cell_type": "markdown",
   "metadata": {},
   "source": [
    "## No Históricas"
   ]
  },
  {
   "cell_type": "code",
   "execution_count": 3,
   "metadata": {},
   "outputs": [],
   "source": [
    "base_url = \"https://api.bcra.gob.ar/centraldedeudores/v1.0/Deudas/\"\n",
    "urllib3.disable_warnings(urllib3.exceptions.InsecureRequestWarning)"
   ]
  },
  {
   "cell_type": "code",
   "execution_count": 5,
   "metadata": {},
   "outputs": [],
   "source": [
    "cuits = all_data['cuit'].unique()"
   ]
  },
  {
   "cell_type": "code",
   "execution_count": null,
   "metadata": {},
   "outputs": [],
   "source": [
    "session = requests.Session()\n",
    "\n",
    "def fetch_data(id):\n",
    "\ttry:\n",
    "\t\turl = f\"{base_url}{id}\"\n",
    "\t\tres = session.get(url, verify=False)\n",
    "\t\tres.raise_for_status()\n",
    "\t\tdata = res.json()\n",
    "\t\t\n",
    "\t\tresults = data['results']\n",
    "\t\tidentificacion_val = results.get('identificacion')\n",
    "\t\tdenominacion = results.get('denominacion')\n",
    "\t\tperiodos = results.get('periodos', [])\n",
    "\t\t\n",
    "\t\tfilas = []\n",
    "\t\tfor periodo in periodos:\n",
    "\t\t\tperiodo_val = periodo.get('periodo')\n",
    "\t\t\tentidades = periodo.get('entidades', [])\n",
    "\t\t\tfor entidad in entidades:\n",
    "\t\t\t\tfila = {'identificacion': identificacion_val,\n",
    "\t\t\t\t\t\t'denominacion': denominacion,\n",
    "\t\t\t\t\t\t'periodo': periodo_val,\n",
    "\t\t\t\t\t\t'entidad': entidad.get('entidad'),\n",
    "\t\t\t\t\t\t'situacion': entidad.get('situacion'),\n",
    "\t\t\t\t\t\t'monto': entidad.get('monto'),\n",
    "\t\t\t\t\t\t'enRevision': entidad.get('enRevision'),\n",
    "\t\t\t\t\t\t'procesoJud': entidad.get('procesoJud'),\n",
    "\t\t\t\t\t\t'fechaSit1': entidad.get('fechaSit1'),\n",
    "\t\t\t\t\t\t'diasAtrasoPago': entidad.get('diasAtrasoPago'),\n",
    "\t\t\t\t\t\t'refinanciaciones': entidad.get('refinanciaciones'),\n",
    "\t\t\t\t\t\t'recategorizacionOblig': entidad.get('recategorizacionOblig'),\n",
    "\t\t\t\t\t\t'situacionJuridica': entidad.get('situacionJuridica'),\n",
    "\t\t\t\t\t\t'irrecDisposicionTecnica': entidad.get('irrecDisposicionTecnica')}\n",
    "\t\t\t\tfilas.append(fila)\n",
    "\t\treturn filas, None\n",
    "\texcept requests.exceptions.RequestException as e:\n",
    "\t\treturn None, (id, str(e))\n",
    "\n",
    "errores = defaultdict(str)\n",
    "todas_las_filas = []\n",
    "\n",
    "with ThreadPoolExecutor() as executor:\n",
    "\tfutures = {executor.submit(fetch_data, id): id for id in cuits}\n",
    "\tfor future in tqdm.tqdm(as_completed(futures), total=len(futures)):\n",
    "\t\tfilas, error = future.result()\n",
    "\t\tif filas:\n",
    "\t\t\ttodas_las_filas.extend(filas)\n",
    "\t\tif error:\n",
    "\t\t\terrores[error[0]] = error[1]"
   ]
  },
  {
   "cell_type": "code",
   "execution_count": 7,
   "metadata": {},
   "outputs": [],
   "source": [
    "columnas = ['identificacion', 'denominacion', 'periodo', 'entidad', 'situacion', 'monto', 'enRevision', 'procesoJud', 'fechaSit1', 'diasAtrasoPago', 'refinanciaciones', 'recategorizacionOblig', 'situacionJuridica', 'irrecDisposicionTecnica']\n",
    "creditos = pd.DataFrame(todas_las_filas, columns= columnas)"
   ]
  },
  {
   "cell_type": "code",
   "execution_count": 11,
   "metadata": {},
   "outputs": [],
   "source": [
    "creditos.to_parquet('./input/creditos.parquet', compression= 'gzip')"
   ]
  },
  {
   "cell_type": "code",
   "execution_count": null,
   "metadata": {},
   "outputs": [],
   "source": []
  }
 ],
 "metadata": {
  "kernelspec": {
   "display_name": "Python 3",
   "language": "python",
   "name": "python3"
  },
  "language_info": {
   "codemirror_mode": {
    "name": "ipython",
    "version": 3
   },
   "file_extension": ".py",
   "mimetype": "text/x-python",
   "name": "python",
   "nbconvert_exporter": "python",
   "pygments_lexer": "ipython3",
   "version": "3.12.6"
  }
 },
 "nbformat": 4,
 "nbformat_minor": 2
}
